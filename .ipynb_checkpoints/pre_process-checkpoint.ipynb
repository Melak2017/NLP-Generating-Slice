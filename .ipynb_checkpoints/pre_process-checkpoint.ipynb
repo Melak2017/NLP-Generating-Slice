{
 "cells": [
  {
   "cell_type": "code",
   "execution_count": 12,
   "id": "f5350307",
   "metadata": {},
   "outputs": [
    {
     "name": "stderr",
     "output_type": "stream",
     "text": [
      "[nltk_data] Downloading package punkt to /home/melak/nltk_data...\n",
      "[nltk_data]   Package punkt is already up-to-date!\n",
      "[nltk_data] Downloading package stopwords to /home/melak/nltk_data...\n",
      "[nltk_data]   Package stopwords is already up-to-date!\n"
     ]
    },
    {
     "data": {
      "text/plain": [
       "True"
      ]
     },
     "execution_count": 12,
     "metadata": {},
     "output_type": "execute_result"
    }
   ],
   "source": [
    "import nltk\n",
    "from nltk.tokenize import word_tokenize\n",
    "from nltk.corpus import stopwords\n",
    "from nltk.stem import PorterStemmer\n",
    "from sklearn.feature_extraction.text import CountVectorizer\n",
    "from sklearn.metrics.pairwise import cosine_similarity\n",
    "\n",
    "nltk.download('punkt')\n",
    "nltk.download('stopwords')\n",
    "\n",
    "# Example text input"
   ]
  },
  {
   "cell_type": "code",
   "execution_count": 13,
   "id": "9d635586",
   "metadata": {},
   "outputs": [
    {
     "name": "stdout",
     "output_type": "stream",
     "text": [
      "Slice 1:\n",
      "In computer science, artificial intelligence (AI), sometimes called machine intelligence, is intelligence demonstrated by machines, in contrast to the natural intelligence displayed by humans and animals. Leading AI textbooks define the field as the study of 'intelligent agents': any device that perceives its environment and takes actions that maximize its chance of successfully achieving its goals. Colloquially, the term 'artificial intelligence' is often used to describe machines (or computers\n",
      "\n",
      "Slice 2:\n",
      "s. Colloquially, the term 'artificial intelligence' is often used to describe machines (or computers) that mimic 'cognitive' functions that humans associate with the human mind, such as 'learning' and 'problem solving'. As machines become increasingly capable, tasks considered to require 'intelligence' are often removed from the definition of AI, a phenomenon known as the AI effect. A quip in Tesler's Theorem says 'AI is whatever hasn't been done yet.' For instance, optical character recognition\n",
      "\n",
      "Slice 3:\n",
      "er's Theorem says 'AI is whatever hasn't been done yet.' For instance, optical character recognition is frequently excluded from things considered to be AI, having become a routine technology.In computer science, artificial intelligence (AI), sometimes called machine intelligence, is intelligence demonstrated by machines, in contrast to the natural intelligence displayed by humans and animals. Leading AI textbooks define the field as the study of 'intelligent agents': any device that perceives i\n",
      "\n",
      "Slice 4:\n",
      "ding AI textbooks define the field as the study of 'intelligent agents': any device that perceives its environment and takes actions that maximize its chance of successfully achieving its goals. Colloquially, the term 'artificial intelligence' is often used to describe machines (or computers) that mimic 'cognitive' functions that humans associate with the human mind, such as 'learning' and 'problem solving'. As machines become increasingly capable, tasks considered to require 'intelligence' are \n",
      "\n",
      "Slice 5:\n",
      "m solving'. As machines become increasingly capable, tasks considered to require 'intelligence' are often removed from the definition of AI, a phenomenon known as the AI effect. A quip in Tesler's Theorem says 'AI is whatever hasn't been done yet.' For instance, optical character recognition is frequently excluded from things considered to be AI, having become a routine technology.In computer science, artificial intelligence (AI), sometimes called machine intelligence, is intelligence demonstrat\n",
      "\n",
      "Slice 6:\n",
      "nce, artificial intelligence (AI), sometimes called machine intelligence, is intelligence demonstrated by machines, in contrast to the natural intelligence displayed by humans and animals. Leading AI textbooks define the field as the study of 'intelligent agents': any device that perceives its environment and takes actions that maximize its chance of successfully achieving its goals. Colloquially, the term 'artificial intelligence' is often used to describe machines (or computers) that mimic 'co\n",
      "\n",
      "Slice 7:\n",
      " the term 'artificial intelligence' is often used to describe machines (or computers) that mimic 'cognitive' functions that humans associate with the human mind, such as 'learning' and 'problem solving'. As machines become increasingly capable, tasks considered to require 'intelligence' are often removed from the definition of AI, a phenomenon known as the AI effect. A quip in Tesler's Theorem says 'AI is whatever hasn't been done yet.' For instance, optical character recognition is frequently e\n",
      "\n",
      "Slice 8:\n",
      "s 'AI is whatever hasn't been done yet.' For instance, optical character recognition is frequently excluded from things considered to be AI, having become a routine technology.In computer science, artificial intelligence (AI), sometimes called machine intelligence, is intelligence demonstrated by machines, in contrast to the natural intelligence displayed by humans and animals. Leading AI textbooks define the field as the study of 'intelligent agents': any device that perceives its environment a\n",
      "\n",
      "Slice 9:\n",
      "s define the field as the study of 'intelligent agents': any device that perceives its environment and takes actions that maximize its chance of successfully achieving its goals. Colloquially, the term 'artificial intelligence' is often used to describe machines (or computers) that mimic 'cognitive' functions that humans associate with the human mind, such as 'learning' and 'problem solving'. As machines become increasingly capable, tasks considered to require 'intelligence' are often removed fr\n",
      "\n",
      "Slice 10:\n",
      "achines become increasingly capable, tasks considered to require 'intelligence' are often removed from the definition of AI, a phenomenon known as the AI effect. A quip in Tesler's Theorem says 'AI is whatever hasn't been done yet.' For instance, optical character recognition is frequently excluded from things considered to be AI, having become a routine technology.In computer science, artificial intelligence (AI), sometimes called machine intelligence, is intelligence demonstrated by machines, \n",
      "\n",
      "Slice 11:\n",
      "intelligence (AI), sometimes called machine intelligence, is intelligence demonstrated by machines, in contrast to the natural intelligence displayed by humans and animals. Leading AI textbooks define the field as the study of 'intelligent agents': any device that perceives its environment and takes actions that maximize its chance of successfully achieving its goals. Colloquially, the term 'artificial intelligence' is often used to describe machines (or computers) that mimic 'cognitive' functio\n",
      "\n",
      "Slice 12:\n",
      "icial intelligence' is often used to describe machines (or computers) that mimic 'cognitive' functions that humans associate with the human mind, such as 'learning' and 'problem solving'. As machines become increasingly capable, tasks considered to require 'intelligence' are often removed from the definition of AI, a phenomenon known as the AI effect. A quip in Tesler's Theorem says 'AI is whatever hasn't been done yet.' For instance, optical character recognition is frequently excluded from thi\n",
      "\n",
      "Slice 13:\n",
      "r hasn't been done yet.' For instance, optical character recognition is frequently excluded from things considered to be AI, having become a routine technology.\n",
      "\n"
     ]
    }
   ],
   "source": [
    "\n",
    "long_text = (\"In computer science, artificial intelligence (AI), sometimes called machine intelligence, \"\n",
    "             \"is intelligence demonstrated by machines, in contrast to the natural intelligence displayed by humans \"\n",
    "             \"and animals. Leading AI textbooks define the field as the study of 'intelligent agents': any device that \"\n",
    "             \"perceives its environment and takes actions that maximize its chance of successfully achieving its goals. \"\n",
    "             \"Colloquially, the term 'artificial intelligence' is often used to describe machines (or computers) that \"\n",
    "             \"mimic 'cognitive' functions that humans associate with the human mind, such as 'learning' and 'problem solving'. \"\n",
    "             \"As machines become increasingly capable, tasks considered to require 'intelligence' are often removed from the \"\n",
    "             \"definition of AI, a phenomenon known as the AI effect. A quip in Tesler's Theorem says 'AI is whatever hasn't \"\n",
    "             \"been done yet.' For instance, optical character recognition is frequently excluded from things considered to be AI, \"\n",
    "             \"having become a routine technology.\") * 5  \n",
    "\n",
    "#Preprocess \n",
    "def preprocess_text(text):\n",
    "    tokens = word_tokenize(text)\n",
    "    tokens = [word for word in tokens if word not in stopwords.words('english')]\n",
    "    stemmer = PorterStemmer()\n",
    "    stemmed_tokens = [stemmer.stem(word) for word in tokens]\n",
    "    return ' '.join(stemmed_tokens)\n",
    "\n",
    "def calculate_cosine_similarity(slice1, slice2):\n",
    "    vectorizer = CountVectorizer().fit([slice1, slice2])\n",
    "    vectorized_slices = vectorizer.transform([slice1, slice2])\n",
    "    similarity = cosine_similarity(vectorized_slices)[0][1]\n",
    "    return similarity\n",
    "\n",
    "def slice_input(input_text, slice_size=500, overlap=100):\n",
    "    slices = []\n",
    "    start = 0\n",
    "    end = slice_size\n",
    "\n",
    "    while start < len(input_text):\n",
    "   \n",
    "        current_slice = input_text[start:end]\n",
    "        slices.append(current_slice)\n",
    "        print(f\"Slice {len(slices)}:\\n{current_slice}\\n\")\n",
    "\n",
    "        start = end - overlap\n",
    "        end = start + slice_size\n",
    "\n",
    "    return slices\n",
    "\n",
    "sliced_demo_text = slice_input(long_text)\n",
    "#len(sliced_demo_text), sliced_demo_text[:3]  \n",
    "\n"
   ]
  },
  {
   "cell_type": "code",
   "execution_count": null,
   "id": "43fe78f3",
   "metadata": {},
   "outputs": [],
   "source": []
  }
 ],
 "metadata": {
  "kernelspec": {
   "display_name": "nlp",
   "language": "python",
   "name": "nlp"
  },
  "language_info": {
   "codemirror_mode": {
    "name": "ipython",
    "version": 3
   },
   "file_extension": ".py",
   "mimetype": "text/x-python",
   "name": "python",
   "nbconvert_exporter": "python",
   "pygments_lexer": "ipython3",
   "version": "3.11.5"
  }
 },
 "nbformat": 4,
 "nbformat_minor": 5
}
